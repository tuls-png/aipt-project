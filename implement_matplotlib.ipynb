{
 "cells": [
  {
   "cell_type": "code",
   "execution_count": null,
   "metadata": {},
   "outputs": [],
   "source": [
    "import pandas as pd\n",
    "import numpy as np\n",
    "import matplotlib.pyplot as plt\n",
    "import seaborn as sns"
   ]
  },
  {
   "cell_type": "markdown",
   "metadata": {},
   "source": [
    "Read the CSV"
   ]
  },
  {
   "cell_type": "code",
   "execution_count": null,
   "metadata": {},
   "outputs": [],
   "source": [
    "df = pd.read_csv(r'C:\\Users\\tulik\\Desktop\\IGDTUW\\AI PT\\aipt-project\\employee_job_satisfaction.csv')\n",
    "target = 'job satisfaction'\n",
    "df"
   ]
  },
  {
   "cell_type": "code",
   "execution_count": null,
   "metadata": {},
   "outputs": [],
   "source": [
    "df.columns"
   ]
  },
  {
   "cell_type": "code",
   "execution_count": null,
   "metadata": {},
   "outputs": [],
   "source": [
    "df.info()"
   ]
  },
  {
   "cell_type": "markdown",
   "metadata": {},
   "source": [
    "Describe the dataset"
   ]
  },
  {
   "cell_type": "code",
   "execution_count": null,
   "metadata": {},
   "outputs": [],
   "source": [
    "df.describe(include='all').T"
   ]
  },
  {
   "cell_type": "code",
   "execution_count": null,
   "metadata": {},
   "outputs": [],
   "source": [
    "df.describe().T"
   ]
  },
  {
   "cell_type": "markdown",
   "metadata": {},
   "source": [
    "Separate numerical and categorical columns"
   ]
  },
  {
   "cell_type": "code",
   "execution_count": null,
   "metadata": {},
   "outputs": [],
   "source": [
    "cat_cols=df.select_dtypes(include=['object']).columns\n",
    "num_cols = df.select_dtypes(include=np.number).columns.tolist()\n",
    "print(\"Categorical Variables:\")\n",
    "print(cat_cols)\n",
    "print(\"Numerical Variables:\")\n",
    "print(num_cols)"
   ]
  },
  {
   "cell_type": "code",
   "execution_count": null,
   "metadata": {},
   "outputs": [],
   "source": [
    "# Normalizing numeric columns\n",
    "print(\"\\n--- Normalizing Numeric Data ---\")\n",
    "df[num_cols] = (df[num_cols] - df[num_cols].min()) / (df[num_cols].max() - df[num_cols].min())\n",
    "print(\"Normalization complete.\")"
   ]
  },
  {
   "cell_type": "code",
   "execution_count": null,
   "metadata": {},
   "outputs": [],
   "source": [
    "import pandas as pd\n",
    "import numpy as np\n",
    "import matplotlib.pyplot as plt\n",
    "from matplotlib.colors import LinearSegmentedColormap\n",
    "\n",
    "\n",
    "# Create subplots with larger figure size\n",
    "num_cols = len(df.columns)\n",
    "fig, axes = plt.subplots(num_cols, 1, figsize=(12, 6 * num_cols))  # Increased size\n",
    "\n",
    "# Ensure axes is iterable\n",
    "if num_cols == 1:\n",
    "    axes = [axes]\n",
    "\n",
    "# Gradient color creation\n",
    "def create_gradient_colors(base_color, num_colors):\n",
    "    cmap = LinearSegmentedColormap.from_list(\"gradient\", [base_color, \"white\"])\n",
    "    return [cmap(i / num_colors) for i in range(num_colors)]\n",
    "\n",
    "for i, col in enumerate(df.columns):\n",
    "    ax = axes[i]\n",
    "    if df[col].dtype in ['int64', 'float64']:  # Numerical column\n",
    "        # Histogram with gradient color\n",
    "        data = df[col]\n",
    "        n, bins, patches = ax.hist(data, bins=10, alpha=0.8, edgecolor='black', color='#87CEEB')\n",
    "        for patch, color in zip(patches, create_gradient_colors('#4682B4', len(patches))):\n",
    "            patch.set_facecolor(color)\n",
    "        \n",
    "        ax.set_title(f'Distribution of {col}', fontsize=18, fontweight='bold')\n",
    "        ax.set_xlabel(col, fontsize=14)\n",
    "        ax.set_ylabel('Frequency', fontsize=14)\n",
    "        \n",
    "    else:  # Categorical column\n",
    "        value_counts = df[col].value_counts()\n",
    "        unique_shades = create_gradient_colors('#FFA07A', len(value_counts))\n",
    "        ax.bar(value_counts.index, value_counts.values, color=unique_shades, edgecolor='black', alpha=0.9)\n",
    "        ax.set_title(f'Distribution of {col}', fontsize=18, fontweight='bold')\n",
    "        ax.set_xlabel(col, fontsize=14)\n",
    "        ax.set_ylabel('Count', fontsize=14)\n",
    "        \n",
    "        # Annotate bar values\n",
    "        for idx, value in enumerate(value_counts.values):\n",
    "            ax.text(idx, value + 0.5, str(value), ha='center', va='bottom', fontsize=12, color='black')\n",
    "    \n",
    "    # Add grid\n",
    "    ax.grid(axis='y', linestyle='--', alpha=0.6)\n",
    "\n",
    "plt.tight_layout(pad=4.0)  # Add padding for better spacing\n",
    "plt.show()\n"
   ]
  },
  {
   "cell_type": "code",
   "execution_count": null,
   "metadata": {},
   "outputs": [],
   "source": [
    "import pandas as pd\n",
    "import seaborn as sns\n",
    "import matplotlib.pyplot as plt\n",
    "\n",
    "# Select numeric columns\n",
    "numeric_columns = df.select_dtypes(include=['float64', 'int64']).columns.tolist()\n",
    "\n",
    "# Compute the correlation matrix\n",
    "corr_matrix = df[numeric_columns].corr()\n",
    "\n",
    "# Create the heatmap\n",
    "plt.figure(figsize=(10, 8))  # Adjust the size of the heatmap\n",
    "sns.heatmap(corr_matrix, annot=True, cmap='coolwarm', fmt='.2f', linewidths=0.5)\n",
    "plt.title('Correlation Heatmap of Numeric Columns', fontsize=16)\n",
    "plt.show()\n"
   ]
  },
  {
   "cell_type": "code",
   "execution_count": null,
   "metadata": {},
   "outputs": [],
   "source": [
    "import matplotlib.pyplot as plt\n",
    "import seaborn as sns\n",
    "import itertools\n",
    "\n",
    "def scatter_matrix_individual(df):\n",
    "    numeric_columns = df.select_dtypes(include=['float64', 'int64']).columns.tolist()\n",
    "    \n",
    "    # Generate scatter plots for each pair of numeric columns\n",
    "    for col1, col2 in itertools.combinations(numeric_columns, 2):\n",
    "        plt.figure(figsize=(8, 6))\n",
    "        sns.scatterplot(x=df[col1], y=df[col2], color='skyblue', alpha=0.7)\n",
    "        plt.title(f'Scatter Plot: {col1} vs {col2}', fontsize=14)\n",
    "        plt.xlabel(col1)\n",
    "        plt.ylabel(col2)\n",
    "        plt.show()\n",
    "\n",
    "# Example usage:\n",
    "scatter_matrix_individual(df)\n"
   ]
  },
  {
   "cell_type": "code",
   "execution_count": null,
   "metadata": {},
   "outputs": [],
   "source": [
    "def plot_pie(df, column):\n",
    "    plt.figure(figsize=(8, 6))\n",
    "    df[column].value_counts().plot(kind='pie', autopct='%1.1f%%', colors=sns.color_palette('Set2'), startangle=90)\n",
    "    plt.title(f'Pie Chart of {column}', fontsize=16)\n",
    "    plt.ylabel('')  # Remove the ylabel (which would otherwise be 'count')\n",
    "    plt.show()\n",
    "\n",
    "# Example usage:\n",
    "plot_pie(df, target)\n"
   ]
  }
 ],
 "metadata": {
  "kernelspec": {
   "display_name": ".venv",
   "language": "python",
   "name": "python3"
  },
  "language_info": {
   "codemirror_mode": {
    "name": "ipython",
    "version": 3
   },
   "file_extension": ".py",
   "mimetype": "text/x-python",
   "name": "python",
   "nbconvert_exporter": "python",
   "pygments_lexer": "ipython3",
   "version": "3.12.5"
  }
 },
 "nbformat": 4,
 "nbformat_minor": 2
}
